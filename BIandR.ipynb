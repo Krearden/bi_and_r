{
 "cells": [
  {
   "cell_type": "code",
   "execution_count": 1,
   "id": "a8d2c03d",
   "metadata": {},
   "outputs": [],
   "source": [
    "import pandas as pd\n",
    "import matplotlib.pyplot as plt"
   ]
  },
  {
   "cell_type": "code",
   "execution_count": 16,
   "id": "3fd47be3",
   "metadata": {},
   "outputs": [],
   "source": [
    "from scipy.stats import shapiro"
   ]
  },
  {
   "attachments": {},
   "cell_type": "markdown",
   "id": "c713b60c",
   "metadata": {},
   "source": [
    "Шаг 1"
   ]
  },
  {
   "cell_type": "code",
   "execution_count": 2,
   "id": "a75b7b31",
   "metadata": {},
   "outputs": [
    {
     "name": "stdout",
     "output_type": "stream",
     "text": [
      "\n",
      "Все количественные столбцы имеют числовой тип:\n",
      "<class 'pandas.core.frame.DataFrame'>\n",
      "RangeIndex: 607 entries, 0 to 606\n",
      "Data columns (total 12 columns):\n",
      " #   Column              Non-Null Count  Dtype \n",
      "---  ------              --------------  ----- \n",
      " 0   Unnamed: 0          607 non-null    int64 \n",
      " 1   work_year           607 non-null    int64 \n",
      " 2   experience_level    607 non-null    object\n",
      " 3   employment_type     607 non-null    object\n",
      " 4   job_title           607 non-null    object\n",
      " 5   salary              607 non-null    int64 \n",
      " 6   salary_currency     607 non-null    object\n",
      " 7   salary_in_usd       607 non-null    int64 \n",
      " 8   employee_residence  607 non-null    object\n",
      " 9   remote_ratio        607 non-null    int64 \n",
      " 10  company_location    607 non-null    object\n",
      " 11  company_size        607 non-null    object\n",
      "dtypes: int64(5), object(7)\n",
      "memory usage: 57.0+ KB\n",
      "None\n",
      "\n",
      "В колонках отсутсвуют пропущенные значения:\n",
      "Unnamed: 0            0\n",
      "work_year             0\n",
      "experience_level      0\n",
      "employment_type       0\n",
      "job_title             0\n",
      "salary                0\n",
      "salary_currency       0\n",
      "salary_in_usd         0\n",
      "employee_residence    0\n",
      "remote_ratio          0\n",
      "company_location      0\n",
      "company_size          0\n",
      "dtype: int64\n"
     ]
    },
    {
     "data": {
      "text/html": [
       "<div>\n",
       "<style scoped>\n",
       "    .dataframe tbody tr th:only-of-type {\n",
       "        vertical-align: middle;\n",
       "    }\n",
       "\n",
       "    .dataframe tbody tr th {\n",
       "        vertical-align: top;\n",
       "    }\n",
       "\n",
       "    .dataframe thead th {\n",
       "        text-align: right;\n",
       "    }\n",
       "</style>\n",
       "<table border=\"1\" class=\"dataframe\">\n",
       "  <thead>\n",
       "    <tr style=\"text-align: right;\">\n",
       "      <th></th>\n",
       "      <th>Unnamed: 0</th>\n",
       "      <th>work_year</th>\n",
       "      <th>experience_level</th>\n",
       "      <th>employment_type</th>\n",
       "      <th>job_title</th>\n",
       "      <th>salary</th>\n",
       "      <th>salary_currency</th>\n",
       "      <th>salary_in_usd</th>\n",
       "      <th>employee_residence</th>\n",
       "      <th>remote_ratio</th>\n",
       "      <th>company_location</th>\n",
       "      <th>company_size</th>\n",
       "    </tr>\n",
       "  </thead>\n",
       "  <tbody>\n",
       "    <tr>\n",
       "      <th>0</th>\n",
       "      <td>0</td>\n",
       "      <td>2020</td>\n",
       "      <td>MI</td>\n",
       "      <td>FT</td>\n",
       "      <td>Data Scientist</td>\n",
       "      <td>70000</td>\n",
       "      <td>EUR</td>\n",
       "      <td>79833</td>\n",
       "      <td>DE</td>\n",
       "      <td>0</td>\n",
       "      <td>DE</td>\n",
       "      <td>L</td>\n",
       "    </tr>\n",
       "    <tr>\n",
       "      <th>1</th>\n",
       "      <td>1</td>\n",
       "      <td>2020</td>\n",
       "      <td>SE</td>\n",
       "      <td>FT</td>\n",
       "      <td>Machine Learning Scientist</td>\n",
       "      <td>260000</td>\n",
       "      <td>USD</td>\n",
       "      <td>260000</td>\n",
       "      <td>JP</td>\n",
       "      <td>0</td>\n",
       "      <td>JP</td>\n",
       "      <td>S</td>\n",
       "    </tr>\n",
       "    <tr>\n",
       "      <th>2</th>\n",
       "      <td>2</td>\n",
       "      <td>2020</td>\n",
       "      <td>SE</td>\n",
       "      <td>FT</td>\n",
       "      <td>Big Data Engineer</td>\n",
       "      <td>85000</td>\n",
       "      <td>GBP</td>\n",
       "      <td>109024</td>\n",
       "      <td>GB</td>\n",
       "      <td>50</td>\n",
       "      <td>GB</td>\n",
       "      <td>M</td>\n",
       "    </tr>\n",
       "    <tr>\n",
       "      <th>3</th>\n",
       "      <td>3</td>\n",
       "      <td>2020</td>\n",
       "      <td>MI</td>\n",
       "      <td>FT</td>\n",
       "      <td>Product Data Analyst</td>\n",
       "      <td>20000</td>\n",
       "      <td>USD</td>\n",
       "      <td>20000</td>\n",
       "      <td>HN</td>\n",
       "      <td>0</td>\n",
       "      <td>HN</td>\n",
       "      <td>S</td>\n",
       "    </tr>\n",
       "    <tr>\n",
       "      <th>4</th>\n",
       "      <td>4</td>\n",
       "      <td>2020</td>\n",
       "      <td>SE</td>\n",
       "      <td>FT</td>\n",
       "      <td>Machine Learning Engineer</td>\n",
       "      <td>150000</td>\n",
       "      <td>USD</td>\n",
       "      <td>150000</td>\n",
       "      <td>US</td>\n",
       "      <td>50</td>\n",
       "      <td>US</td>\n",
       "      <td>L</td>\n",
       "    </tr>\n",
       "    <tr>\n",
       "      <th>...</th>\n",
       "      <td>...</td>\n",
       "      <td>...</td>\n",
       "      <td>...</td>\n",
       "      <td>...</td>\n",
       "      <td>...</td>\n",
       "      <td>...</td>\n",
       "      <td>...</td>\n",
       "      <td>...</td>\n",
       "      <td>...</td>\n",
       "      <td>...</td>\n",
       "      <td>...</td>\n",
       "      <td>...</td>\n",
       "    </tr>\n",
       "    <tr>\n",
       "      <th>602</th>\n",
       "      <td>602</td>\n",
       "      <td>2022</td>\n",
       "      <td>SE</td>\n",
       "      <td>FT</td>\n",
       "      <td>Data Engineer</td>\n",
       "      <td>154000</td>\n",
       "      <td>USD</td>\n",
       "      <td>154000</td>\n",
       "      <td>US</td>\n",
       "      <td>100</td>\n",
       "      <td>US</td>\n",
       "      <td>M</td>\n",
       "    </tr>\n",
       "    <tr>\n",
       "      <th>603</th>\n",
       "      <td>603</td>\n",
       "      <td>2022</td>\n",
       "      <td>SE</td>\n",
       "      <td>FT</td>\n",
       "      <td>Data Engineer</td>\n",
       "      <td>126000</td>\n",
       "      <td>USD</td>\n",
       "      <td>126000</td>\n",
       "      <td>US</td>\n",
       "      <td>100</td>\n",
       "      <td>US</td>\n",
       "      <td>M</td>\n",
       "    </tr>\n",
       "    <tr>\n",
       "      <th>604</th>\n",
       "      <td>604</td>\n",
       "      <td>2022</td>\n",
       "      <td>SE</td>\n",
       "      <td>FT</td>\n",
       "      <td>Data Analyst</td>\n",
       "      <td>129000</td>\n",
       "      <td>USD</td>\n",
       "      <td>129000</td>\n",
       "      <td>US</td>\n",
       "      <td>0</td>\n",
       "      <td>US</td>\n",
       "      <td>M</td>\n",
       "    </tr>\n",
       "    <tr>\n",
       "      <th>605</th>\n",
       "      <td>605</td>\n",
       "      <td>2022</td>\n",
       "      <td>SE</td>\n",
       "      <td>FT</td>\n",
       "      <td>Data Analyst</td>\n",
       "      <td>150000</td>\n",
       "      <td>USD</td>\n",
       "      <td>150000</td>\n",
       "      <td>US</td>\n",
       "      <td>100</td>\n",
       "      <td>US</td>\n",
       "      <td>M</td>\n",
       "    </tr>\n",
       "    <tr>\n",
       "      <th>606</th>\n",
       "      <td>606</td>\n",
       "      <td>2022</td>\n",
       "      <td>MI</td>\n",
       "      <td>FT</td>\n",
       "      <td>AI Scientist</td>\n",
       "      <td>200000</td>\n",
       "      <td>USD</td>\n",
       "      <td>200000</td>\n",
       "      <td>IN</td>\n",
       "      <td>100</td>\n",
       "      <td>US</td>\n",
       "      <td>L</td>\n",
       "    </tr>\n",
       "  </tbody>\n",
       "</table>\n",
       "<p>607 rows × 12 columns</p>\n",
       "</div>"
      ],
      "text/plain": [
       "     Unnamed: 0  work_year experience_level employment_type   \n",
       "0             0       2020               MI              FT  \\\n",
       "1             1       2020               SE              FT   \n",
       "2             2       2020               SE              FT   \n",
       "3             3       2020               MI              FT   \n",
       "4             4       2020               SE              FT   \n",
       "..          ...        ...              ...             ...   \n",
       "602         602       2022               SE              FT   \n",
       "603         603       2022               SE              FT   \n",
       "604         604       2022               SE              FT   \n",
       "605         605       2022               SE              FT   \n",
       "606         606       2022               MI              FT   \n",
       "\n",
       "                      job_title  salary salary_currency  salary_in_usd   \n",
       "0                Data Scientist   70000             EUR          79833  \\\n",
       "1    Machine Learning Scientist  260000             USD         260000   \n",
       "2             Big Data Engineer   85000             GBP         109024   \n",
       "3          Product Data Analyst   20000             USD          20000   \n",
       "4     Machine Learning Engineer  150000             USD         150000   \n",
       "..                          ...     ...             ...            ...   \n",
       "602               Data Engineer  154000             USD         154000   \n",
       "603               Data Engineer  126000             USD         126000   \n",
       "604                Data Analyst  129000             USD         129000   \n",
       "605                Data Analyst  150000             USD         150000   \n",
       "606                AI Scientist  200000             USD         200000   \n",
       "\n",
       "    employee_residence  remote_ratio company_location company_size  \n",
       "0                   DE             0               DE            L  \n",
       "1                   JP             0               JP            S  \n",
       "2                   GB            50               GB            M  \n",
       "3                   HN             0               HN            S  \n",
       "4                   US            50               US            L  \n",
       "..                 ...           ...              ...          ...  \n",
       "602                 US           100               US            M  \n",
       "603                 US           100               US            M  \n",
       "604                 US             0               US            M  \n",
       "605                 US           100               US            M  \n",
       "606                 IN           100               US            L  \n",
       "\n",
       "[607 rows x 12 columns]"
      ]
     },
     "execution_count": 2,
     "metadata": {},
     "output_type": "execute_result"
    }
   ],
   "source": [
    "\n",
    "dataframe = pd.read_csv(\"ds_salaries.csv\")\n",
    "\n",
    "print(\"\\nВсе количественные столбцы имеют числовой тип:\")\n",
    "print(dataframe.info())\n",
    "\n",
    "print(\"\\nВ колонках отсутсвуют пропущенные значения:\")\n",
    "print(dataframe.isnull().sum())\n",
    "dataframe"
   ]
  },
  {
   "cell_type": "markdown",
   "metadata": {},
   "source": []
  },
  {
   "cell_type": "code",
   "execution_count": 3,
   "id": "f1ccb468",
   "metadata": {},
   "outputs": [],
   "source": [
    "# new_df = dataframe.copy()\n",
    "\n",
    "# #non int64\n",
    "# non_int = ['experience_level', 'employment_type', 'job_title', 'salary_currency', 'employee_residence', 'company_location', 'company_size']\n",
    "\n",
    "# unique_eml_type = new_df['employment_type']\n",
    "# print(unique_eml_type)\n",
    "\n",
    "# # Создаем словарь для присвоения числовых кодов категориальным значениям\n",
    "# code_dict_exp_lvl = {'EN': 1, 'MI': 2, 'SE': 3, 'EX' : 4}\n",
    "# experience_levels_from_df = new_df['experience_level']\n",
    "\n",
    "# new_df['experience_level'] = [code_dict_exp_lvl[value] for value in experience_levels_from_df]\n",
    "\n",
    "# new_df\n",
    "\n"
   ]
  },
  {
   "attachments": {},
   "cell_type": "markdown",
   "id": "b6e69a37",
   "metadata": {},
   "source": [
    "Функция - возвращает датафрейм как массив словарей"
   ]
  },
  {
   "cell_type": "code",
   "execution_count": 4,
   "id": "8cff8a75",
   "metadata": {},
   "outputs": [],
   "source": [
    "#поменять залоголок столбца на понятный\n",
    "dataframe.rename(columns={'Unnamed: 0': 'RowID'}, inplace=True)\n",
    "\n",
    "def getDataframeAsArrayOfDictionarys():\n",
    "    return dataframe.to_dict(orient='records')\n",
    "\n",
    "# getDataframeAsArrayOfDictionarys()"
   ]
  },
  {
   "attachments": {},
   "cell_type": "markdown",
   "id": "45573251",
   "metadata": {},
   "source": [
    "Шаг 2"
   ]
  },
  {
   "cell_type": "code",
   "execution_count": 21,
   "id": "5d5c7df5",
   "metadata": {},
   "outputs": [
    {
     "name": "stdout",
     "output_type": "stream",
     "text": [
      "\n",
      "Описательные статистики по колонкам (среднее, мода, медиана, стандартное отклонение, квартили):\n",
      "            RowID    work_year        salary  salary_in_usd  remote_ratio\n",
      "count  607.000000   607.000000  6.070000e+02     607.000000     607.00000\n",
      "mean   303.000000  2021.405272  3.240001e+05  112297.869852      70.92257\n",
      "std    175.370085     0.692133  1.544357e+06   70957.259411      40.70913\n",
      "min      0.000000  2020.000000  4.000000e+03    2859.000000       0.00000\n",
      "25%    151.500000  2021.000000  7.000000e+04   62726.000000      50.00000\n",
      "50%    303.000000  2022.000000  1.150000e+05  101570.000000     100.00000\n",
      "75%    454.500000  2022.000000  1.650000e+05  150000.000000     100.00000\n",
      "max    606.000000  2022.000000  3.040000e+07  600000.000000     100.00000\n",
      "\n",
      "Значение моды для колонок:\n",
      "RowID: 0\n",
      "work_year: 2022\n",
      "experience_level: SE\n",
      "employment_type: FT\n",
      "job_title: Data Scientist\n",
      "salary: 80000\n",
      "salary_currency: USD\n",
      "salary_in_usd: 100000\n",
      "employee_residence: US\n",
      "remote_ratio: 100\n",
      "company_location: US\n",
      "company_size: M\n"
     ]
    }
   ],
   "source": [
    "print(\"\\nОписательные статистики по колонкам (среднее, мода, медиана, стандартное отклонение, квартили):\")\n",
    "print(dataframe.describe())\n",
    "mode = dataframe.experience_level.mode()[0]  \n",
    "m = ['experience_level', \"employment_type\", 'job_title', 'salary_currency', 'employee_residence', 'company_location', 'company_size']\n",
    "print(\"\\nЗначение моды для колонок:\")\n",
    "for i in list(dataframe):\n",
    "  print(f\"{i}: {dataframe[i].mode()[0]}\")"
   ]
  },
  {
   "cell_type": "code",
   "execution_count": 6,
   "id": "8876be8b",
   "metadata": {},
   "outputs": [
    {
     "name": "stdout",
     "output_type": "stream",
     "text": [
      "['work_year', 'salary', 'salary_in_usd', 'remote_ratio']\n"
     ]
    },
    {
     "data": {
      "image/png": "[encoded data removed]",
      "text/plain": [
       "<Figure size 1200x600 with 1 Axes>"
      ]
     },
     "metadata": {},
     "output_type": "display_data"
    }
   ],
   "source": [
    "inter_cols = [\"work_year\",'salary', \"salary_in_usd\", \"remote_ratio\"]\n",
    "\n",
    "plt.rcParams[\"figure.figsize\"] = 12, 6\n",
    "dataframe[inter_cols].boxplot();\n",
    "print(inter_cols)"
   ]
  },
  {
   "cell_type": "code",
   "execution_count": 13,
   "id": "87e66047",
   "metadata": {},
   "outputs": [
    {
     "data": {
      "image/png": "[encoded data removed]",
      "text/plain": [
       "<Figure size 1200x600 with 1 Axes>"
      ]
     },
     "metadata": {},
     "output_type": "display_data"
    }
   ],
   "source": [
    "ndf = dataframe.copy()\n",
    "ndf = ndf[ndf['salary_in_usd'] < 500000].copy()\n",
    "ndf = ndf[ndf['salary'] < 700000].copy()\n",
    "ndf[inter_cols].boxplot()\n",
    "plt.show()\n"
   ]
  },
  {
   "cell_type": "code",
   "execution_count": 26,
   "id": "abd87b99",
   "metadata": {},
   "outputs": [
    {
     "name": "stdout",
     "output_type": "stream",
     "text": [
      "Тест Шапиро-Уилка:\n",
      "stat=0.923, p-value=0.000\n",
      "Данные не распределены нормально\n"
     ]
    }
   ],
   "source": [
    "stat, p = shapiro(ndf[\"salary_in_usd\"])\n",
    "print(\"Тест Шапиро-Уилка:\")\n",
    "print(\"stat=%.3f, p-value=%.3f\" % (stat, p))\n",
    "alpha = 0.05\n",
    "if p > alpha:\n",
    "    print(\"Данные распределены нормально\")\n",
    "else:\n",
    "    print(\"Данные не распределены нормально\")"
   ]
  },
  {
   "cell_type": "code",
   "execution_count": 30,
   "id": "abf05035",
   "metadata": {},
   "outputs": [
    {
     "name": "stdout",
     "output_type": "stream",
     "text": [
      "Данные не упорядочены\n"
     ]
    }
   ],
   "source": [
    "from scipy.stats import wilcoxon\n",
    "\n",
    "stat, p = wilcoxon(ndf[\"salary_in_usd\"])\n",
    "\n",
    "alpha = 0.05\n",
    "if p > alpha:\n",
    "    print(\"Данные упорядочены\")\n",
    "else:\n",
    "    print(\"Данные не упорядочены\")\n"
   ]
  }
 ],
 "metadata": {
  "kernelspec": {
   "display_name": "Python 3 (ipykernel)",
   "language": "python",
   "name": "python3"
  },
  "language_info": {
   "codemirror_mode": {
    "name": "ipython",
    "version": 3
   },
   "file_extension": ".py",
   "mimetype": "text/x-python",
   "name": "python",
   "nbconvert_exporter": "python",
   "pygments_lexer": "ipython3",
   "version": "3.11.0"
  }
 },
 "nbformat": 4,
 "nbformat_minor": 5
}
